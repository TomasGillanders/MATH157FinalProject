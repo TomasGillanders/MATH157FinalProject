{
 "cells": [
  {
   "cell_type": "markdown",
   "id": "e6b10efe",
   "metadata": {},
   "source": [
    "# AES - Symmetric Cryptography and the Rijndael Cryptographic System\n",
    "\n",
    "## MATH 157 - Final Project\n",
    "\n",
    "**Tomás Gillanders**  \n",
    "**PID: A17694974**"
   ]
  },
  {
   "cell_type": "code",
   "execution_count": 2,
   "id": "8557a9e0",
   "metadata": {},
   "outputs": [],
   "source": [
    "# using Pkg\n",
    "# PKG.add(\"LinearAlgebra\")\n",
    "# Pkg.add(\"Nemo\")\n",
    "# Pkg.add(\"Primes\")\n",
    "\n",
    "# Import the Libraries used by the project.\n",
    "using LinearAlgebra;\n",
    "using Nemo;\n",
    "using Primes;"
   ]
  },
  {
   "cell_type": "markdown",
   "id": "1e886744",
   "metadata": {},
   "source": [
    "## Introduction\n",
    "\n",
    "..."
   ]
  },
  {
   "cell_type": "markdown",
   "id": "e466670c",
   "metadata": {},
   "source": [
    "## Part 1: Finite Fields - Theory\n",
    "\n",
    "### §1.1 Laying the Foundations\n",
    "\n",
    "***Definition 1.1.1*** **(Abelian Group)**: Let $G$ be a non-empty set on which there is defined a binary operation $+: G \\times G \\rightarrow G$.  We say that $(G,+)$ is a group iff the following axioms hold:\n",
    "- Closure:           $\\qquad \\qquad \\forall a,b \\in G, \\; a+b \\in G$\n",
    "- Associativity:     $\\qquad \\ \\  \\forall a,b,c \\in G, \\; (a+b)+c = a+(b+c)$\n",
    "- Identity Element:  $\\quad \\  \\exists e \\in G, \\; \\forall a \\in G, \\; a + e = e + a = a$\n",
    "- Inverses:          $\\qquad \\quad \\ \\ \\ \\ \\forall a \\in G, \\; \\exists (-a) \\in G, \\; a + (-a) = (-a) + a = e$\n",
    "- Commutivity:       $\\qquad \\ \\ \\forall a,b \\in G, \\; a+b = b+a$\n",
    "\n",
    "For an abelian group, the operation, $+$, is often reffered to as addition, and the identity element is denoted by $\\textbf{0}$.\n",
    "\n",
    "***Definition 1.1.2*** **(Ring)**: Let $R$ be a non-empty set on which there is defined two binary operations, denoted $+,\\bullet: R \\times R \\rightarrow R$.  We say that $(R, +, \\bullet \\,)$ is a ring iff:\n",
    "1. The algebraic structure $(R, +)$ constitutes an abelian group.\n",
    "2. The operation, $\\bullet$, is closed, associative and there exists an identity element (i.e. $(R,\\bullet \\,)$ constitutes a monoid).\n",
    "3. Distributivity:   $ \\qquad \\ \\ \\  \\forall a,b,c \\in R: \\; a \\bullet(b+c) = a \\bullet b + a \\bullet c $\n",
    "\n",
    "We say that $(R,+,\\bullet \\,)$ is a commutative ring if the operation, $\\bullet$, is commutative.  The identity element for $\\cdot$ is often denoted by $\\textbf{1}$ (while the identity element for $+$ is denoted by $\\textbf{0}$, as above).\n",
    "\n",
    "***Definition 1.1.3*** **(Field)**: Let $F$ be a non-empty set on which there is defined two binary operations $+,\\bullet: F \\times F \\rightarrow F$.  We say that $(F, +, \\bullet)$ is a field iff:\n",
    "1. $(F, +, \\bullet)$ is a commutative ring.\n",
    "2. $\\forall a \\in F \\setminus \\{\\textbf{0}\\}, \\; \\exists a^{-1} \\in F \\setminus \\{\\textbf{0}\\}$ such that $a \\bullet a^{-1} = a^{-1} \\bullet a = \\textbf{1}$.\n",
    "\n",
    "\n",
    "---\n",
    "---"
   ]
  },
  {
   "cell_type": "markdown",
   "id": "819d87f1",
   "metadata": {},
   "source": [
    "### §1.2 Finite Fields\n",
    "\n",
    "In the implementation of AES/Rijndael, the theory of Finite (Galois) Fields plays a central role in the encryption and decyrption processes.\n",
    "\n",
    "\n",
    "***Definition 1.2.1*** **(Finite Field)**: A Finite Field is a field with a finite number of elements.  The number of elements in the set is called the ***order*** of the field.\n",
    "\n",
    ">*Note: When discussing fields for the remainder of this project, it is implicite that the fields in question are finite, unless otherwise stated.*\n",
    "\n",
    "***Theorem 1.2.2*** *(Existence of Finite Fields)*: For every prime $p$ and positive integer $m$, there exists a finite field of order $p^m$.  We say that $p$ is the ***characteristic*** of the field.\n",
    "\n",
    "***Theorem 1.2.3***: All finite fields of the same order are *isomorphic*. [isomorphic reference].\n",
    "\n",
    "*Theorem 1.2.3* tells us that that while (finite) fields of the same order may differ in the representation of their elements, allgebraically their structures are identical.  Therefore, combining *Theorems 1.2.2* and *1.2.3*, we have that for every prime power, there exists exactly one finite.  We denote the Finite Field/Galois Field of order $p^n$ by:\n",
    "\n",
    "$$ GF(p^n) $$\n",
    "\n",
    "---\n",
    "---\n",
    "\n",
    "\n",
    "\n"
   ]
  },
  {
   "cell_type": "markdown",
   "id": "e2c03513",
   "metadata": {},
   "source": [
    "### §1.3 Operations on Finite Fields & Polynomial Representations\n",
    "\n",
    "#### Fields of Prime Order:\n",
    "\n",
    "Consider the field $GF(p)$, where $p$ is a prime. The elements of $GF(p)$ can be represented by the integers \n",
    "\n",
    "$$ 0, 1, 2, ..., p-2, p-2 $$ \n",
    "\n",
    "Then the two operations of field addition and multiplication on $GF(p)$ are the familiar operations of integer addition modulo $p$ and integer multiplication modulo $p$. "
   ]
  },
  {
   "cell_type": "markdown",
   "id": "ed12f2f0",
   "metadata": {},
   "source": [
    "---"
   ]
  },
  {
   "cell_type": "markdown",
   "id": "c96bff35",
   "metadata": {},
   "source": [
    "### Paricipation Check\n",
    "\n",
    "Consider the field $GF(17)$.  Using the `Nemo` library, or otherwise, find $a,b,c \\in GF(17)$, where\n",
    "1. $a = 15 + 5$\n",
    "2. $b = 13 \\bullet 3$\n",
    "3. $10 = 13 \\bullet c$"
   ]
  },
  {
   "cell_type": "code",
   "execution_count": 9,
   "id": "b92430eb",
   "metadata": {},
   "outputs": [
    {
     "name": "stdout",
     "output_type": "stream",
     "text": [
      "a = F17(15) + 5 = 3\n",
      "b = F17(13) * 3 = 5\n",
      "c = F17(10) // 13 = 6\n"
     ]
    }
   ],
   "source": [
    "# YOUR ANSWER HERE\n",
    "# ...\n",
    "\n",
    "# Answers:\n",
    "F17 = GF(17)\n",
    "\n",
    "@show a = F17(15) + 5\n",
    "@show b = F17(13) * 3\n",
    "@show c = F17(10) // 13;  # or use `powermod()` without Nemo"
   ]
  },
  {
   "cell_type": "markdown",
   "id": "6182d7c9",
   "metadata": {},
   "source": [
    "---"
   ]
  },
  {
   "cell_type": "markdown",
   "id": "fb0cd7dc",
   "metadata": {},
   "source": [
    "#### Fields of Non-Prime Order:\n",
    "\n",
    "Consider the field $GF(p^n)$, with $n>1$.  For such fields the operations of addition and multiplication cannot be defined/represented in terms of integer addation and multiplication as was done above.\n",
    "\n",
    "> **Example**: Consider $GF(4)$.  *Theorem 1.2.2* tells us that $GF(4)$ is a field (with the appropriate field operations), since $4 = 2^2$.  However, if we consider the element $2 \\in GF(4)$, we note that \n",
    ">\n",
    ">$$ \\forall n \\in \\mathbb{Z}: \\quad 2 \\bullet n \\equiv 0 \\pmod{4} \\quad \\text{or} \\quad 2 \\bullet n \\equiv 2 \\pmod{4} $$\n",
    ">\n",
    ">Thus, there does not exist $2^{-1} \\in \\mathbb{Z}$ such that $2 * 2^{-1} \\equiv 1 \\pmod{4}$.  This means that integer multiplication modulo 4 cannot be one of the operations defined on $GF(4)$.\n",
    "\n"
   ]
  },
  {
   "cell_type": "code",
   "execution_count": 18,
   "id": "17a34bd3",
   "metadata": {},
   "outputs": [
    {
     "data": {
      "text/plain": [
       "false"
      ]
     },
     "execution_count": 18,
     "metadata": {},
     "output_type": "execute_result"
    }
   ],
   "source": [
    "# Check for the first 1001 non-negative integers\n",
    "ints = collect(0:1000)\n",
    "\n",
    "1 ∈ (2 .* ints) .% 4"
   ]
  },
  {
   "cell_type": "markdown",
   "id": "563550c2",
   "metadata": {},
   "source": [
    "In order to define our field operations on $GF(p^n)$, $n>1$, we move to representing its elements in terms of polynomials, rather than the integers $0,1,...,p-1$.\n",
    "\n",
    "***Definition 1.3.1*** **(Polynomial over a Field)**:  Let $F$ be a field.  A polynomial over $F$ is an expression of the form:\n",
    "\n",
    "$$ p(x) = \\sum_{i = 0}^{n-1} a_i x^i $$\n",
    "\n",
    "where $x$ is called the ***indeterminate*** of the polynomial and $a_i \\in F$ are the ***coefficients***.\n",
    "\n",
    "***Definition 1.3.2*** **(Degree of Polynomial)**: The ***degree*** of a polynomial is the least $l$ such that $a_j = 0, \\; \\forall j > l$.  \n",
    "\n",
    "We denote by $F[x]$ the *ring* of all polynomials over $F$, and by $F[x]|_l$ the *set* of all polynomials over $F$ with degree strictly less than $l$.\n",
    "\n",
    "---"
   ]
  },
  {
   "cell_type": "markdown",
   "id": "9199f7ba",
   "metadata": {},
   "source": [
    "Using *Definition 1.3.1* we can now represent the elements of $GF(p^n)$ as follows.  Consider an integer $b$ in the range $0,1,...,p^n-1$:\n",
    "\n",
    "- First write $b$ with respect to the base $p$.  This gives us a list of terms:\n",
    "\n",
    "    $$ (b)_p = (b_{n-1} b_{n-2} ... b_2 b_1 b_0)_p $$\n",
    "    where\n",
    "    $$ b = b_{n-1} \\cdot p^{n-1} + ... + b_1 \\cdot p^1 + b_0 \\cdot p^0 $$ \n",
    "    \n",
    "    \n",
    "- Then, since each $b_i$ is in the range $0,1,...,p-1$, we can identify $b$ with a unique polynomial in $GF(p)|_n$ as follows:\n",
    "\n",
    "$$ b \\longleftrightarrow b(x) =  b_{n-1} x^{n-1} + ... +  b_2 x^2 + b_1 x + b_0$$ \n",
    "\n",
    "---\n",
    "\n",
    "We can now define our operations on $GF(p^n)$ as follows:\n",
    "\n",
    "Consider two elements $a,b \\in GF(p^n)$.  We identify $a,b$ with polynomials in the field $GF(p)[x]|_n$:\n",
    "\n",
    "$$ a \\longleftrightarrow a(x) \\qquad \\text{and} \\qquad b \\longleftrightarrow b(x) $$\n",
    "\n",
    "We recall that by *Theorem 1.2.3*, $GF(p^n)$ and $GF(p)[x]|_n$ are algebraicly the same.* [see appendix on discussion of $GF(p)[x]|_n$ as a field.] \n",
    "\n",
    "- **Addition**: $a + b \\longleftrightarrow a(x) + b(x)$ where the addition of the coefficients of like powered terms in the polynomial sum occurs in $GF(p)$.\n",
    "- **Multiplication**: We note that for $GF(p)[x]|_n$ to be closed under polynomial multiplication an irreducible ***reduction polynomial*** of degree $n$, $m(x)$, must be chosen.  Multiplication is then defined in terms of:\n",
    "\n",
    "$$ a \\bullet b \\longleftrightarrow a(x) \\bullet b(x) \\pmod{m(x)} $$\n",
    "\n",
    "---\n",
    "\n",
    "\\* see appendix/link/book... on discussion of $GF(p)[x]|_n$ as a field.\n",
    "\n",
    "---"
   ]
  },
  {
   "cell_type": "markdown",
   "id": "b8a49524",
   "metadata": {},
   "source": [
    "### §1.4 Example: Applying Finite Fields and AES\n",
    "\n",
    "In the implementation of AES, bits of data are grouped into bytes.  Therefore, the set of all possible byte-values can be thought of as elements (polynomials) of the field $GF(2)[x]|_8$ or, as discussed above, $GF(2^8)$.\n",
    "\n",
    "Thus, when looking to encrypt a given plaintext byte, the operations and theory of finite fields can be applied.\n",
    "\n",
    "In the specification of AES, bytes are considered as polynomials , with 'addition' and 'multiplication' of bytes as discussed above.  We note also that the following irreducible polynomial is used as reduction polynomial for all multiplication operations:\n",
    "\n",
    "$$ m(x) = x^8 + x^4 + x^3 + x + 1 $$\n",
    "\n",
    "Note that while the concept of multiplication is used in the implementation of AES, no computation of byte multiplication is required in its implmentation.  This is further discussed in §2.(...).\n",
    "\n",
    "**Discuss addtion of bytes:  bitwise XOR**"
   ]
  },
  {
   "cell_type": "code",
   "execution_count": 20,
   "id": "04ab4c3a",
   "metadata": {},
   "outputs": [
    {
     "data": {
      "text/plain": [
       "4"
      ]
     },
     "execution_count": 20,
     "metadata": {},
     "output_type": "execute_result"
    }
   ],
   "source": [
    "7 ⊻ 3"
   ]
  },
  {
   "cell_type": "code",
   "execution_count": null,
   "id": "6d32f4fd",
   "metadata": {},
   "outputs": [],
   "source": []
  }
 ],
 "metadata": {
  "kernelspec": {
   "display_name": "Julia 1.8.5",
   "language": "julia",
   "name": "julia-1.8"
  },
  "language_info": {
   "file_extension": ".jl",
   "mimetype": "application/julia",
   "name": "julia",
   "version": "1.8.5"
  }
 },
 "nbformat": 4,
 "nbformat_minor": 5
}
