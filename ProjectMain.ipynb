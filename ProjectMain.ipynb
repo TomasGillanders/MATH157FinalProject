{
 "cells": [
  {
   "cell_type": "markdown",
   "id": "33b181a9",
   "metadata": {},
   "source": [
    "# Symmetric Cryptography and AES\n",
    "\n",
    "## MATH 157 (Winter 23) - Final Project\n",
    "\n",
    "**Tomás Gillanders**  \n",
    "**PID: A17694974**\n",
    "\n",
    "Project Available at: [GitHub - TomasGillanders](https://github.com/TomasGillanders/MATH157FinalProject)"
   ]
  },
  {
   "cell_type": "code",
   "execution_count": 1,
   "id": "d3ff32a0",
   "metadata": {},
   "outputs": [],
   "source": [
    "using Pkg\n",
    "# PKG.add(\"LinearAlgebra\")\n",
    "# Pkg.add(\"Nemo\")\n",
    "# Pkg.add(\"Primes\")\n",
    "# Pkg.add(\"AES\")\n",
    "\n",
    "# Import the Libraries used by the project.\n",
    "# using LinearAlgebra;\n",
    "# using Nemo;\n",
    "# using Primes;\n",
    "# using AES;"
   ]
  },
  {
   "cell_type": "code",
   "execution_count": 2,
   "id": "6560888d",
   "metadata": {},
   "outputs": [],
   "source": [
    "# Include Files with Constants Defined\n",
    "include(\"./AESTables.jl\");"
   ]
  },
  {
   "cell_type": "markdown",
   "id": "f39df681",
   "metadata": {},
   "source": [
    "## Introduction\n",
    "\n",
    "### §0.1 Symmetric Cryptography\n",
    "\n",
    "The concept of *Symmetric Cryptography* is simpler to that of *Asymmetric Cryptography*, as was discussed in class. With Symmetric Cryptography, the same *key* is used in both the encryption and decryption processes.\n",
    "\n",
    "Suppose that we have two people, Alice and Bob, who want to exchange messages without a third-party, Eve say, being able to read what they are sending.  Alice and Bob decide that they want to use a *symmetric* crytographic system to encode/encrypt their messages, so that the only thing Eve can see is their scrambled data.  To do this, Alice and Bob decide on a *key* that they can use to encrypt and decrypt their messages.  They can then send messages to each other with ease, knowing that their secrets are safe, as long as their mutual key is kept secret from everbody else.\n",
    "\n",
    "![Symmetric Encryption](./Images/SymmetricEncryption.png)\n",
    "\n",
    "The use of *Symmetric Cryptography* has many advantages:\n",
    "- The production of strong keys is generally computionally less expensive, when compared to keys used in asymmetric cryptography.\n",
    "- The size of the keys used is generally much smaller than keys used in asymmetric crytography, while providing comparable levels of protection.\n",
    "- The algorithms implemented are generally computationally inexpensive.\n",
    "\n",
    "However, there are also some significant drawbacks with using a Symmetric Cryptosystem:\n",
    "- If a third-party (Eve) were to find out the secret key, it would allow them to both decrypt messages and also encrypt new messages and insert them into Alice and Bob's conversation; neither of whom would know that the message was not sent by the other.\n",
    "- How Alice and Bob share their key initially is also problematic.  If they cannot meet in person (as is the case in reality), then they must rely on a different secret key to protect the privacy of the key that they are trying to share.  However, this means that they must have the other secret key in the first place, and how was that key shared?  This can lead to a never-ending dependency on a different key.\n",
    "\n"
   ]
  },
  {
   "cell_type": "markdown",
   "id": "a0534c95",
   "metadata": {},
   "source": [
    "### §0.2 The Advanced Encryption Standard (AES)\n",
    "\n",
    "***The Advanced Encryption Standard (AES)*** is a *symmetric block cipher* that developed between 1997 and 2001 by the *US Institute of Standards and Technology* (NIST) to become a *Federal Information Processing Standard* (FIPS) and replace the now redundant *Data Encryption Standard* (DES).\n",
    "\n",
    "NIST opened the development of candidate symmetric ciphers to independent parties, who's algorithms were then compared and scrutinized publically in order to determine who's algorithm provided the best balance between security, efficiency and the ability to be implemented over different platforms; ranging from 8-bit processors to servers and work-stations.\n",
    "\n",
    "The algorithm eventually chosen and adopted was a slight adaptation of an algorithm developed by Joan Daemen and Vincent Daemen, known as *Rijndael*.*\n",
    "\n",
    "AES is now used by the US Government to protect, confidential, secret and top secret information, with longer cryptographic keys being used when encrypting top-secret information, for added security. [reference here: TechTarget]\n",
    "\n",
    "The mathematical theory behind AES and its implementation is presented in this project.\n",
    "- In Part 1, we discuss the mathematical theory of finite fields, that underpins the AES algorithm.\n",
    "- In Part 2, we discuss the method of encryption, and build functions to do so.\n",
    "- In Part 3, we define both the encryption and decryption functions, using our building blocks from Part 2.\n",
    "- In Part 4, we apply our encryption and decryption functions to plaintext examples."
   ]
  },
  {
   "cell_type": "markdown",
   "id": "feaae107",
   "metadata": {},
   "source": [
    "## Part 1: Finite Fields - Theory\n",
    "\n",
    "### § 1.1 Laying the Foundations\n",
    "\n",
    "***Definition 1.1.1*** **(Abelian Group)**: Let $G$ be a non-empty set on which there is defined a binary operation $+: G \\times G \\rightarrow G$.  We say that $(G,+)$ is a group iff the following axioms hold:\n",
    "- Closure:           $\\qquad \\qquad \\forall a,b \\in G, \\; a+b \\in G$\n",
    "- Associativity:     $\\qquad \\ \\  \\forall a,b,c \\in G, \\; (a+b)+c = a+(b+c)$\n",
    "- Identity Element:  $\\quad \\  \\exists e \\in G, \\; \\forall a \\in G, \\; a + e = e + a = a$\n",
    "- Inverses:          $\\qquad \\quad \\ \\ \\ \\ \\forall a \\in G, \\; \\exists (-a) \\in G, \\; a + (-a) = (-a) + a = e$\n",
    "- Commutivity:       $\\qquad \\ \\ \\forall a,b \\in G, \\; a+b = b+a$\n",
    "\n",
    "For an abelian group, the operation, $+$, is often reffered to as addition, and the identity element is denoted by $\\textbf{0}$.\n",
    "\n",
    "***Definition 1.1.2*** **(Ring)**: Let $R$ be a non-empty set on which there is defined two binary operations, denoted $+,\\bullet: R \\times R \\rightarrow R$.  We say that $(R, +, \\bullet \\,)$ is a ring iff:\n",
    "1. The algebraic structure $(R, +)$ constitutes an abelian group.\n",
    "2. The operation, $\\bullet$, is closed, associative and there exists an identity element (i.e. $(R,\\bullet \\,)$ constitutes a monoid).\n",
    "3. Distributivity:   $ \\qquad \\ \\ \\  \\forall a,b,c \\in R: \\; a \\bullet(b+c) = a \\bullet b + a \\bullet c $\n",
    "\n",
    "We say that $(R,+,\\bullet \\,)$ is a commutative ring if the operation, $\\bullet$, is commutative.  The identity element for $\\cdot$ is often denoted by $\\textbf{1}$ (while the identity element for $+$ is denoted by $\\textbf{0}$, as above).\n",
    "\n",
    "***Definition 1.1.3*** **(Field)**: Let $F$ be a non-empty set on which there is defined two binary operations $+,\\bullet: F \\times F \\rightarrow F$.  We say that $(F, +, \\bullet)$ is a field iff:\n",
    "1. $(F, +, \\bullet)$ is a commutative ring.\n",
    "2. $\\forall a \\in F \\setminus \\{\\textbf{0}\\}, \\; \\exists a^{-1} \\in F \\setminus \\{\\textbf{0}\\}$ such that $a \\bullet a^{-1} = a^{-1} \\bullet a = \\textbf{1}$.\n",
    "\n",
    "\n",
    "---\n",
    "---"
   ]
  },
  {
   "cell_type": "markdown",
   "id": "549c32c3",
   "metadata": {},
   "source": [
    "### §1.2 Finite Fields\n",
    "\n",
    "In the implementation of AES/Rijndael, the theory of Finite (Galois) Fields plays a central role in the encryption and decyrption processes.\n",
    "\n",
    "\n",
    "***Definition 1.2.1*** **(Finite Field)**: A Finite Field is a field with a finite number of elements.  The number of elements in the set is called the ***order*** of the field.\n",
    "\n",
    ">*Note: When discussing fields for the remainder of this project, it is implicite that the fields in question are finite, unless otherwise stated.*\n",
    "\n",
    "***Theorem 1.2.2*** *(Existence of Finite Fields)*: For every prime $p$ and positive integer $m$, there exists a finite field of order $p^m$.  We say that $p$ is the ***characteristic*** of the field.\n",
    "\n",
    "***Theorem 1.2.3***: All finite fields of the same order are *isomorphic*. [isomorphic reference].\n",
    "\n",
    "*Theorem 1.2.3* tells us that that while (finite) fields of the same order may differ in the representation of their elements, allgebraically their structures are identical.  Therefore, combining *Theorems 1.2.2* and *1.2.3*, we have that for every prime power, there exists exactly one finite field.  We denote the Finite (Galois) Field of order $p^n$ by:\n",
    "\n",
    "$$ GF(p^n) $$\n",
    "\n",
    "---\n",
    "---\n",
    "\n",
    "\n",
    "\n"
   ]
  },
  {
   "cell_type": "markdown",
   "id": "9cd82b6a",
   "metadata": {},
   "source": [
    "### §1.3 Operations on Finite Fields & Polynomial Representations\n",
    "\n",
    "#### Fields of Prime Order:\n",
    "\n",
    "Consider the field $GF(p)$, where $p$ is a prime. The elements of $GF(p)$ can be represented by the integers \n",
    "\n",
    "$$ 0, 1, 2, ..., p-2, p-1 $$ \n",
    "\n",
    "Then the two operations of field addition and multiplication on $GF(p)$ are the familiar operations of integer addition modulo $p$ and integer multiplication modulo $p$. "
   ]
  },
  {
   "cell_type": "markdown",
   "id": "587c96d5",
   "metadata": {},
   "source": [
    "---"
   ]
  },
  {
   "cell_type": "markdown",
   "id": "098e0407",
   "metadata": {},
   "source": [
    "### Paricipation Check\n",
    "\n",
    "Consider the field $GF(17)$.  Using the `Nemo` library, or otherwise, find $a,b,c \\in GF(17)$, where\n",
    "1. $a = 15 + 5$\n",
    "2. $b = 13 \\bullet 3$\n",
    "3. $10 = 13 \\bullet c$"
   ]
  },
  {
   "cell_type": "code",
   "execution_count": 3,
   "id": "ff63c4d1",
   "metadata": {},
   "outputs": [
    {
     "ename": "LoadError",
     "evalue": "UndefVarError: GF not defined",
     "output_type": "error",
     "traceback": [
      "UndefVarError: GF not defined",
      "",
      "Stacktrace:",
      " [1] top-level scope",
      "   @ In[3]:5"
     ]
    }
   ],
   "source": [
    "# YOUR ANSWER HERE\n",
    "# ...\n",
    "\n",
    "# Answers:\n",
    "F17 = GF(17)\n",
    "\n",
    "@show a = F17(15) + 5\n",
    "@show b = F17(13) * 3\n",
    "@show c = F17(10) // 13;  # or use `powermod()` without Nemo"
   ]
  },
  {
   "cell_type": "markdown",
   "id": "6c2e419e",
   "metadata": {},
   "source": [
    "---"
   ]
  },
  {
   "cell_type": "markdown",
   "id": "0ff751f9",
   "metadata": {},
   "source": [
    "#### Fields of Non-Prime Order:\n",
    "\n",
    "Consider the field $GF(p^n)$, with $n>1$.  For such fields the operations of addition and multiplication cannot be defined/represented in terms of integer addation and multiplication as was done above.\n",
    "\n",
    "> **Example**: Consider $GF(4)$.  *Theorem 1.2.2* tells us that $GF(4)$ is a field (with the appropriate field operations), since $4 = 2^2$.  However, if we consider the element $2 \\in GF(4)$, we note that \n",
    ">\n",
    ">$$ \\forall n \\in \\mathbb{Z}: \\quad 2 \\bullet n \\equiv 0 \\pmod{4} \\quad \\text{or} \\quad 2 \\bullet n \\equiv 2 \\pmod{4} $$\n",
    ">\n",
    ">Thus, there does not exist $2^{-1} \\in \\mathbb{Z}$ such that $2 * 2^{-1} \\equiv 1 \\pmod{4}$.  This means that integer multiplication modulo 4 cannot be one of the operations defined on $GF(4)$.\n",
    "\n"
   ]
  },
  {
   "cell_type": "code",
   "execution_count": 4,
   "id": "c2c4a6e5",
   "metadata": {},
   "outputs": [
    {
     "data": {
      "text/plain": [
       "false"
      ]
     },
     "execution_count": 4,
     "metadata": {},
     "output_type": "execute_result"
    }
   ],
   "source": [
    "# Check for the first 1001 non-negative integers\n",
    "ints = collect(0:1000)\n",
    "\n",
    "1 ∈ (2 .* ints) .% 4"
   ]
  },
  {
   "cell_type": "markdown",
   "id": "f2a80680",
   "metadata": {},
   "source": [
    "In order to define our field operations on $GF(p^n)$, $n>1$, we move to representing its elements in terms of polynomials, rather than the integers $0,1,...,p-1$.\n",
    "\n",
    "***Definition 1.3.1*** **(Polynomial over a Field)**:  Let $F$ be a field.  A polynomial over $F$ is an expression of the form:\n",
    "\n",
    "$$ p(x) = \\sum_{i = 0}^{n-1} a_i x^i $$\n",
    "\n",
    "where $x$ is called the ***indeterminate*** of the polynomial and $a_i \\in F$ are the ***coefficients***.\n",
    "\n",
    "***Definition 1.3.2*** **(Degree of Polynomial)**: The ***degree*** of a polynomial is the least $l$ such that $a_j = 0, \\; \\forall j > l$.  \n",
    "\n",
    "We denote by $F[x]$ the *ring* of all polynomials over $F$, and by $F[x]|_l$ the *set* of all polynomials over $F$ with degree strictly less than $l$.\n",
    "\n",
    "---"
   ]
  },
  {
   "cell_type": "markdown",
   "id": "cca7222b",
   "metadata": {},
   "source": [
    "Using *Definition 1.3.1* we can now represent the elements of $GF(p^n)$ as follows.  Consider an integer $b$ in the range $0,1,...,p^n-1$:\n",
    "\n",
    "- First write $b$ with respect to the base $p$.  This gives us a list of terms:\n",
    "\n",
    "    $$ (b)_p = (b_{n-1} b_{n-2} ... b_2 b_1 b_0)_p $$\n",
    "    where\n",
    "    $$ b = b_{n-1} \\cdot p^{n-1} + ... + b_1 \\cdot p^1 + b_0 \\cdot p^0 $$ \n",
    "    \n",
    "    \n",
    "- Then, since each $b_i$ is in the range $0,1,...,p-1$, we can identify $b$ with a unique polynomial in $GF(p)|_n$ as follows:\n",
    "\n",
    "$$ b \\longleftrightarrow b(x) =  b_{n-1} x^{n-1} + ... +  b_2 x^2 + b_1 x + b_0$$ \n",
    "\n",
    "---\n",
    "\n",
    "We can now define our operations on $GF(p^n)$ as follows:\n",
    "\n",
    "Consider two elements $a,b \\in GF(p^n)$.  We identify $a,b$ with polynomials in the field $GF(p)[x]|_n$:\n",
    "\n",
    "$$ a \\longleftrightarrow a(x) \\qquad \\text{and} \\qquad b \\longleftrightarrow b(x) $$\n",
    "\n",
    "We recall that by *Theorem 1.2.3*, $GF(p^n)$ and $GF(p)[x]|_n$ are algebraicly the same.* [see appendix on discussion of $GF(p)[x]|_n$ as a field.] \n",
    "\n",
    "- **Addition**: $a + b \\longleftrightarrow a(x) + b(x)$ where the addition of the coefficients of like powered terms in the polynomial sum occurs in $GF(p)$.\n",
    "- **Multiplication**: We note that for $GF(p)[x]|_n$ to be closed under polynomial multiplication an irreducible ***reduction polynomial*** of degree $n$, $m(x)$, must be chosen.  Multiplication is then defined in terms of:\n",
    "\n",
    "$$ a \\bullet b \\longleftrightarrow a(x) \\bullet b(x) \\pmod{m(x)} $$\n",
    "\n",
    "---\n",
    "\n",
    "\\* see appendix/link/book... on discussion of $GF(p)[x]|_n$ as a field.\n",
    "\n",
    "---"
   ]
  },
  {
   "cell_type": "markdown",
   "id": "7379180c",
   "metadata": {},
   "source": [
    "### §1.4 Example: Applying Finite Fields and AES\n",
    "\n",
    "In the implementation of AES, bits of data are grouped into bytes.  Therefore, the set of all possible byte-values can be thought of as elements (polynomials) of the field $GF(2)[x]|_8$ or, as discussed above, $GF(2^8)$.\n",
    "\n",
    "Thus, when looking to encrypt a given plaintext byte, the operations and theory of finite fields can be applied.\n",
    "\n",
    "In the specification of AES, bytes are considered as polynomials , with 'addition' and 'multiplication' of bytes as discussed above.  We note also that the following irreducible polynomial is used as reduction polynomial for all multiplication operations:\n",
    "\n",
    "$$ m(x) = x^8 + x^4 + x^3 + x + 1 $$\n",
    "\n",
    "Note that while the byte multiplication is used in the AES specification, no computation of byte multiplication is required in its implmentation.  This is further discussed in §2.(...).\n"
   ]
  },
  {
   "cell_type": "markdown",
   "id": "4e69337b",
   "metadata": {},
   "source": [
    "> **Byte Addition and its Implemenation**:\n",
    ">\n",
    "> Consider the elements $53, 12 \\in GF(2^8)$.  We wish to find the sum $53 + 12 \\in GF(2^8)$. We carry out this addition as follows:\n"
   ]
  },
  {
   "cell_type": "code",
   "execution_count": 5,
   "id": "d1dde05a",
   "metadata": {},
   "outputs": [
    {
     "ename": "LoadError",
     "evalue": "UndefVarError: GF not defined",
     "output_type": "error",
     "traceback": [
      "UndefVarError: GF not defined",
      "",
      "Stacktrace:",
      " [1] top-level scope",
      "   @ show.jl:1047"
     ]
    }
   ],
   "source": [
    "# Using the Nemo library intialise the Field GF(2) and the Polynomial Ring GF(2)[x]\n",
    "@show GF2        = GF(2)\n",
    "@show R_GF2_x, x = GF2[\"x\"];"
   ]
  },
  {
   "cell_type": "code",
   "execution_count": 6,
   "id": "76d56c98",
   "metadata": {},
   "outputs": [
    {
     "name": "stdout",
     "output_type": "stream",
     "text": [
      "bin53 = string(53, base = 2) = \"110101\"\n",
      "bin12 = string(12, base = 2) = \"1100\"\n"
     ]
    }
   ],
   "source": [
    "# Find the binary representations of 53 and 12.\n",
    "@show bin53 = string(53, base = 2)\n",
    "@show bin12 = string(12, base = 2);"
   ]
  },
  {
   "cell_type": "code",
   "execution_count": 7,
   "id": "050e2592",
   "metadata": {},
   "outputs": [
    {
     "name": "stdout",
     "output_type": "stream",
     "text": [
      "vec53 = parse.(Int, split(bin53, \"\")) = [1, 1, 0, 1, 0, 1]\n",
      "vec12 = parse.(Int, split(bin12, \"\")) = [1, 1, 0, 0]\n"
     ]
    }
   ],
   "source": [
    "# Parse and return as vectors.\n",
    "@show vec53 = parse.(Int, split(bin53, \"\"))\n",
    "@show vec12 = parse.(Int, split(bin12, \"\"));"
   ]
  },
  {
   "cell_type": "code",
   "execution_count": 8,
   "id": "1078ffcc",
   "metadata": {},
   "outputs": [
    {
     "ename": "LoadError",
     "evalue": "UndefVarError: R_GF2_x not defined",
     "output_type": "error",
     "traceback": [
      "UndefVarError: R_GF2_x not defined",
      "",
      "Stacktrace:",
      " [1] top-level scope",
      "   @ show.jl:1047"
     ]
    }
   ],
   "source": [
    "# Produce the polynomial representations\n",
    "@show pol53 = R_GF2_x(reverse(vec53))\n",
    "@show pol12 = R_GF2_x(reverse(vec12));"
   ]
  },
  {
   "cell_type": "code",
   "execution_count": 9,
   "id": "3909461b",
   "metadata": {},
   "outputs": [
    {
     "ename": "LoadError",
     "evalue": "UndefVarError: pol53 not defined",
     "output_type": "error",
     "traceback": [
      "UndefVarError: pol53 not defined",
      "",
      "Stacktrace:",
      " [1] top-level scope",
      "   @ show.jl:1047"
     ]
    }
   ],
   "source": [
    "# Add the polynomials over GF(2)[x]\n",
    "@show pol53 + pol12;"
   ]
  },
  {
   "cell_type": "markdown",
   "id": "06227fa9",
   "metadata": {},
   "source": [
    "> Thus, we have that the addition of 53 and 12 over $GF(2^8)$ corresponds to the number with binary representation\n",
    "> $$ 111001 $$\n",
    "> We use the `parse()` function again to parse this number in decimal."
   ]
  },
  {
   "cell_type": "code",
   "execution_count": 10,
   "id": "a911fb5f",
   "metadata": {},
   "outputs": [
    {
     "name": "stdout",
     "output_type": "stream",
     "text": [
      "answer = parse(Int, \"111001\", base = 2) = 57\n"
     ]
    }
   ],
   "source": [
    "@show answer = parse(Int, \"111001\" , base = 2);"
   ]
  },
  {
   "cell_type": "markdown",
   "id": "25f7d5b6",
   "metadata": {},
   "source": [
    "> Thus, we have that in $GF(2^8)$, $53 + 12 = 57$.\n",
    ">\n",
    "> However, on closer examination of the above method, we note that the operation in fact simply implemented, without consideration of polynomial addition. "
   ]
  },
  {
   "cell_type": "markdown",
   "id": "a361563f",
   "metadata": {},
   "source": [
    "---"
   ]
  },
  {
   "cell_type": "markdown",
   "id": "c051cfda",
   "metadata": {},
   "source": [
    "### Participation Check\n",
    "\n",
    "Compute $157 + 200$ in $GF(2^8)$, without using the polynomial addition method above. (This can be accomplished in one short line of code)."
   ]
  },
  {
   "cell_type": "code",
   "execution_count": 11,
   "id": "8422d9b3",
   "metadata": {},
   "outputs": [],
   "source": [
    "# Your Answer Here\n",
    "\n"
   ]
  },
  {
   "cell_type": "markdown",
   "id": "1f299020",
   "metadata": {},
   "source": [
    "**Answer**: Looking at the above example, we notice that addition of elements of $GF(2^8)$ is simply the operation of taking the ***Bitwise XOR*** of the two elements.  Julia allows us to apply this operation using the $\\veebar$ (\\xor - tab) symbol.\n",
    "\n",
    "*Note*: Often the symbol $\\oplus$ is used to represent XOR in literature.  However, here we use $\\veebar$ to remain consistent with the Julia syntax."
   ]
  },
  {
   "cell_type": "code",
   "execution_count": 12,
   "id": "9d3d4750",
   "metadata": {},
   "outputs": [
    {
     "name": "stdout",
     "output_type": "stream",
     "text": [
      "157 ⊻ 200 = 85\n"
     ]
    }
   ],
   "source": [
    "@show 157 ⊻ 200;"
   ]
  },
  {
   "cell_type": "markdown",
   "id": "1ee114dd",
   "metadata": {},
   "source": [
    "---"
   ]
  },
  {
   "cell_type": "markdown",
   "id": "d3cd8c42",
   "metadata": {},
   "source": [
    "---\n",
    "---\n",
    "---"
   ]
  },
  {
   "cell_type": "markdown",
   "id": "3e54c2c0",
   "metadata": {},
   "source": [
    "## Part 2: The Encryption Algorithm\n",
    "\n",
    "### §2.1 Overview\n",
    "\n",
    "AES is a ***Key-Iterated Block Cipher*** that acts on a square $4 \\times 4$ array of bytes (this is how the plaintext data is grouped).\n",
    "\n",
    "***Definition 2.1.1*** **(Block Cipher)**: A *Block Cipher* is a function that operates on a *Plaintext Block* of fixed length (number of bits), and returns a *ciphertext block* of the same length, under the influence of a cipher key, $\\bf{k}$.\n",
    "\n",
    "An ***iterative block cipher*** is a block cipher in which some function(s) (called ***Boolean Permutations***) are repeatedly applied to the given ***state*** of the block of data. These Boolean Permutations are called the ***Round Transformations***, and every application of a Round Transformation is called a ***Round***.\n",
    "\n",
    "Each Round is dependent on a ***Round Key***, which is generated using the original cipher key (discussed later).  If we call $\\bf{k}^{(i)}$ the $i^{th}$ round key, with $\\bf{k}^{(0)}$ the original cipher key, then the concatenation of all round keys is called the ***Expanded Key***, denoted $K$:\n",
    "\n",
    "$$ K = \\bf{k}^{(0)}|\\bf{k}^{(2)}|\\bf{k}^{(3)}|...|\\bf{k}^{(r)} $$\n",
    "\n",
    "where $r$ is the number of round applications.\n",
    "\n",
    "If we take $\\rho$ to be the round transformation, $\\sigma[k^{(i)}]$ to be the byte addition (bitwise XOR) of the current *state* with the $i^{th}$ round key and $B[k]$ to be the block cipher, then AES takes the form:\n",
    "\n",
    "$$ B[K] = \\sigma[\\bf{k}^{(r)}] \\circ \\rho^\\star \\circ \\sigma[\\bf{k}^{(r-1)}] \\circ \\rho \\circ \\cdots \\sigma[\\bf{k}^{(1)}] \\circ \\rho \\circ \\sigma[\\bf{k}^{(0)}] $$\n",
    "\n",
    "where $\\rho^\\star$ is the final round, which differs slightly.\n",
    "\n",
    "We now discuss the structure of each round."
   ]
  },
  {
   "cell_type": "markdown",
   "id": "0c8fe3fb",
   "metadata": {},
   "source": [
    "### §2.2 The Round Tranformation, `Round`\n",
    "\n",
    "In discussing the round transformation of the AES Encryption Algorithm, we follow the naming conventions as layed-out in Daemen and Rijmen's \"The Design of Rijndael; AES - The Advanced Encryption Standard\". [insert reference]\n",
    "\n",
    "\n",
    "\n",
    "#### §2.2.1 `SubBytes`\n",
    "\n",
    "`SubBytes` is a \"non-linear transformation\"* that acts byte-wise on the current *state*.  Such a transformation is called a ***Bricklayer Permutation***, with its defining characteristic being that the function can be decomposed into a number of ***Boolean Permutations*** that act on subsets of bits.  In the case of `SubBytes`, the bits in the current *state* are partitioned into bytes.  We note that such a transformation is invertible, since each of the costituent *Boolean Permutations*, acting independently, are invertible.\n",
    "\n",
    "The *Boolean Permutions* in question are called ***S-boxes***, if non-linear, and ***D-boxes***, if linear.\n",
    "\n",
    "`SubBytes` is an *S-box* that acts on the bytes of the current state.  It consists of the composition of a non-linear permutation and affine transformation on $GF(2^8)$:\n",
    "- The non-linear transformation is simlpy the mapping of an element in $GF(2^8)$ to its inverse:\n",
    "\n",
    "$$ g:GF(2^8) \\rightarrow GF(2^8), \\; a \\mapsto b = a^{-1} $$\n",
    "\n",
    "This operation is carried out using the polynomial representation of $GF(2^8)$, as discussed in §1.4; using the irreducible polynomial $m(x) = x^8 + x^4 + x^3 + x + 1$ as the reduction polynomial.\n",
    "    \n",
    "- The invertible affine transformation is defined as follows:\n",
    "\n",
    "$$ f(a) = b \\iff \\begin{bmatrix} b_7 \\\\\n",
    "                   b_6 \\\\\n",
    "                   b_5 \\\\\n",
    "                   b_4 \\\\\n",
    "                   b_3 \\\\\n",
    "                   b_2 \\\\\n",
    "                   b_1 \\\\\n",
    "                   b_0\n",
    "                   \\end{bmatrix} =  \\begin{bmatrix} 1 & 1 & 1 & 1 & 1 & 0 & 0 & 0 \\\\\n",
    "                   0 & 1 & 1 & 1 & 1 & 1 & 0 & 0 \\\\\n",
    "                   0 & 0 & 1 & 1 & 1 & 1 & 1 & 0 \\\\\n",
    "                   0 & 0 & 0 & 1 & 1 & 1 & 1 & 1 \\\\\n",
    "                   1 & 0 & 0 & 0 & 1 & 1 & 1 & 1 \\\\\n",
    "                   1 & 1 & 0 & 0 & 0 & 1 & 1 & 1 \\\\\n",
    "                   1 & 1 & 1 & 0 & 0 & 0 & 1 & 1 \\\\\n",
    "                   1 & 1 & 1 & 1 & 0 & 0 & 0 & 1 \\\\\n",
    "                   \\end{bmatrix} \\bullet \\begin{bmatrix} \n",
    "                   a_7 \\\\\n",
    "                   a_6 \\\\\n",
    "                   a_5 \\\\\n",
    "                   a_4 \\\\\n",
    "                   a_3 \\\\\n",
    "                   a_2 \\\\\n",
    "                   a_1 \\\\\n",
    "                   a_0\n",
    "                   \\end{bmatrix} \\veebar \\begin{bmatrix} \n",
    "                   0 \\\\\n",
    "                   1 \\\\\n",
    "                   1 \\\\\n",
    "                   0 \\\\\n",
    "                   0 \\\\\n",
    "                   0 \\\\\n",
    "                   1 \\\\\n",
    "                   1 \\\\\\end{bmatrix}\n",
    "$$\n",
    " \n",
    "The *S-box* is then the function $f \\circ g(a)$.\n",
    "\n",
    "\n",
    "While the above operations underpin the `SubBytes` operation, when implementing the encryption algorithm, no computation of inverses or matrix multiplication is required.  In stead, a lookup table is used, far improving the efficiency of the algorithm."
   ]
  },
  {
   "cell_type": "code",
   "execution_count": 13,
   "id": "8415bed3",
   "metadata": {},
   "outputs": [
    {
     "data": {
      "text/plain": [
       "16×16 transpose(::Matrix{UInt8}) with eltype UInt8:\n",
       " 0x63  0x7c  0x77  0x7b  0xf2  0x6b  …  0x67  0x2b  0xfe  0xd7  0xab  0x76\n",
       " 0xca  0x82  0xc9  0x7d  0xfa  0x59     0xa2  0xaf  0x9c  0xa4  0x72  0xc0\n",
       " 0xb7  0xfd  0x93  0x26  0x36  0x3f     0xe5  0xf1  0x71  0xd8  0x31  0x15\n",
       " 0x04  0xc7  0x23  0xc3  0x18  0x96     0x80  0xe2  0xeb  0x27  0xb2  0x75\n",
       " 0x09  0x83  0x2c  0x1a  0x1b  0x6e     0xd6  0xb3  0x29  0xe3  0x2f  0x84\n",
       " 0x53  0xd1  0x00  0xed  0x20  0xfc  …  0xbe  0x39  0x4a  0x4c  0x58  0xcf\n",
       " 0xd0  0xef  0xaa  0xfb  0x43  0x4d     0x02  0x7f  0x50  0x3c  0x9f  0xa8\n",
       " 0x51  0xa3  0x40  0x8f  0x92  0x9d     0xda  0x21  0x10  0xff  0xf3  0xd2\n",
       " 0xcd  0x0c  0x13  0xec  0x5f  0x97     0x7e  0x3d  0x64  0x5d  0x19  0x73\n",
       " 0x60  0x81  0x4f  0xdc  0x22  0x2a     0xb8  0x14  0xde  0x5e  0x0b  0xdb\n",
       " 0xe0  0x32  0x3a  0x0a  0x49  0x06  …  0xac  0x62  0x91  0x95  0xe4  0x79\n",
       " 0xe7  0xc8  0x37  0x6d  0x8d  0xd5     0xf4  0xea  0x65  0x7a  0xae  0x08\n",
       " 0xba  0x78  0x25  0x2e  0x1c  0xa6     0x74  0x1f  0x4b  0xbd  0x8b  0x8a\n",
       " 0x70  0x3e  0xb5  0x66  0x48  0x03     0x57  0xb9  0x86  0xc1  0x1d  0x9e\n",
       " 0xe1  0xf8  0x98  0x11  0x69  0xd9     0x87  0xe9  0xce  0x55  0x28  0xdf\n",
       " 0x8c  0xa1  0x89  0x0d  0xbf  0xe6  …  0x2d  0x0f  0xb0  0x54  0xbb  0x16"
      ]
     },
     "execution_count": 13,
     "metadata": {},
     "output_type": "execute_result"
    }
   ],
   "source": [
    "transpose(reshape(SBOX,16,16))"
   ]
  },
  {
   "cell_type": "markdown",
   "id": "a7c98f99",
   "metadata": {},
   "source": [
    "<!-- <img src=\"./Images/SBox.png\" width=\"70%\" height=\"auto\"> -->\n",
    "\n",
    "Note that in the above lookup table, the elements of $GF(2^8)$ are expressed in hexadecimal.\n",
    "\n",
    "The Inverse Transformation, `InvSubBytes`, is the *S-box* $(f \\circ g)^{-1} = g^{-1} \\circ f^{-1}$, and is similarly implmemented using a lookup table."
   ]
  },
  {
   "cell_type": "code",
   "execution_count": 14,
   "id": "5e93094e",
   "metadata": {},
   "outputs": [
    {
     "data": {
      "text/plain": [
       "InvSubByte (generic function with 1 method)"
      ]
     },
     "execution_count": 14,
     "metadata": {},
     "output_type": "execute_result"
    }
   ],
   "source": [
    "# SBOX and INVSBOX are defined in `AESTables.jl`.\n",
    "\n",
    "# In place of defining the function `SubBytes`, we define the function `SubByte` that \n",
    "# acts on individual bytes.  This can then be broadcast across arrays and also allows\n",
    "# for its implimentation within other functions.\n",
    "\n",
    "function SubByte(a)\n",
    "    # Add 1 to the index because the arrays are 1 indexed.\n",
    "    return SBOX[Int(a+1)]\n",
    "end\n",
    "\n",
    "function InvSubByte(b)\n",
    "    return INVSBOX[Int(b+1)]\n",
    "end"
   ]
  },
  {
   "cell_type": "code",
   "execution_count": 15,
   "id": "c901ac81",
   "metadata": {},
   "outputs": [
    {
     "data": {
      "text/plain": [
       "4×4 Matrix{UInt8}:\n",
       " 0x56  0xbb  0xfc  0x3b\n",
       " 0xbc  0xe4  0x3c  0x1f\n",
       " 0xb1  0x89  0x7c  0x6f\n",
       " 0xb3  0xfd  0xb5  0xac"
      ]
     },
     "execution_count": 15,
     "metadata": {},
     "output_type": "execute_result"
    }
   ],
   "source": [
    "# Initialize a test state\n",
    "teststate = rand(UInt8, 4,4)"
   ]
  },
  {
   "cell_type": "code",
   "execution_count": 16,
   "id": "f86f7b4c",
   "metadata": {},
   "outputs": [
    {
     "data": {
      "text/plain": [
       "true"
      ]
     },
     "execution_count": 16,
     "metadata": {},
     "output_type": "execute_result"
    }
   ],
   "source": [
    "# Demonstation\n",
    "InvSubByte.(SubByte.(teststate)) == teststate"
   ]
  },
  {
   "cell_type": "markdown",
   "id": "e995196f",
   "metadata": {},
   "source": [
    "#### §2.2.2 `ShiftRows`\n",
    "\n",
    "`ShiftRows` is a *Boolean Permutation* that cyclically shifts each of the rows in the current state over different offsets.  By convention for AES:\n",
    "- Row 0 is shifted (cyclically) 0 bytes to the left,\n",
    "- Row 1 is shifted 1 byte to the left,\n",
    "- Row 2 is shifted 2 bytes to the left, and\n",
    "- Row 3 is shifted 3 bytes to the left.\n",
    "\n",
    "##### Diffusion\n",
    "\n",
    "The above offsets are selected as to optimize the ***diffusion*** effects of the transformation.  The *diffusion* of a transformation describes the \"quantitative spreading of information\". [insert reference, book]  By maximizing the *diffusion* of the transformation, over repeated implementations, bits in the ciphertext should depend on a \"significant number\" of bits in the plaintext (i.e. by changing a bit of the plaintext, a large proportion of the ciphertext bits should change).  *Diffusion* ensures that patterns that are apparent (or hidden) in the plaintext are not repeated in the ciphertext, and thus, cannot be exploited by malicious parties.\n",
    "\n",
    "The inverse transformation, `InvShiftRows`, is simply obtained by composing `ShiftRows` with itself three times. By then applying `ShiftRows` followed by `InvShiftRows` (or vice versa) each row is offset by some integer multiple of 4.  Due to the cyclic nature of the shifts, the composition ends up being the identity.\n"
   ]
  },
  {
   "cell_type": "code",
   "execution_count": 17,
   "id": "dcf7565f",
   "metadata": {},
   "outputs": [
    {
     "data": {
      "text/plain": [
       "InvShiftRows (generic function with 1 method)"
      ]
     },
     "execution_count": 17,
     "metadata": {},
     "output_type": "execute_result"
    }
   ],
   "source": [
    "# Implementation of `ShiftRows`\n",
    "function ShiftRows(state)\n",
    "    for i = 2:4\n",
    "        # Copy row from state\n",
    "        temp = state[i,:]\n",
    "        \n",
    "        # Cycle the rows\n",
    "        for j = 1:(i-1)\n",
    "            push!(temp, popfirst!(temp))\n",
    "        end\n",
    "        \n",
    "        # Replace the row\n",
    "        state[i,:] = temp\n",
    "    end\n",
    "    return state\n",
    "end\n",
    "\n",
    "# Repeatedly Implment `ShiftRows`\n",
    "# 1•4, 2•4, 3•4 ≡ 0 (mod 4)\n",
    "InvShiftRows(state) = (ShiftRows ∘ ShiftRows ∘ ShiftRows)(state)  # Using the Function Composition Operator, `∘`\n"
   ]
  },
  {
   "cell_type": "code",
   "execution_count": 18,
   "id": "40664800",
   "metadata": {},
   "outputs": [
    {
     "data": {
      "text/plain": [
       "true"
      ]
     },
     "execution_count": 18,
     "metadata": {},
     "output_type": "execute_result"
    }
   ],
   "source": [
    "# Demonstration\n",
    "InvShiftRows(ShiftRows(teststate)) == teststate"
   ]
  },
  {
   "cell_type": "markdown",
   "id": "66f717d1",
   "metadata": {},
   "source": [
    "#### §2.2.3 `MixColumns`\n",
    "\n",
    "Like the `SubBytes` transformation, `MixColumns` is also a *bricklayer permutations* but differed in that it acts on column rather than individual bytes, and that the tranformation is linear, and is thus, a *D-box*.\n",
    "\n",
    "The tranformation in question considers the 4-byte columns of the current *state* as polynomials over $GF(2^8)$ with degree less than or equal to 3.  The multiplication used is then performed modulo the reduction polynomial:\n",
    "\n",
    "$$ n(x) = x^4 + 1 $$\n",
    "\n",
    "We note that even though by the discussion in §1.3, $n(x)$ is reducible, only multiplication by a constant polynomial, $c(x)$, that does have an inverse*, $d(x) \\pmod{n(x)}$, is used in the implementation of `MixColumns`. \n",
    "\n",
    "Givin the column $a$ in the current state, where\n",
    "\n",
    "$$ a = \\begin{bmatrix} a_0 \\\\\n",
    "                       a_1 \\\\\n",
    "                       a_2 \\\\\n",
    "                       a_3 \\end{bmatrix} \\iff a(x) = a_3 \\cdot x^3 + a_2 \\cdot x^2 + a_1 \\cdot x + a_0\n",
    "$$\n",
    "\n",
    "`MixColumns` multiplies the polynomial representation of $a$ by the fixed polynomial\n",
    "\n",
    "$$ c(x) = \\texttt{0x03} \\cdot x^3 + \\texttt{0x01} \\cdot x^2 + \\texttt{0x01} x + \\texttt{0x02} $$\n",
    "\n",
    "and reduces the answer modulo $n(x)$.\n",
    "\n",
    "*Note*: In the above polynomial, the coefficients are expressed in hexadecimal (using the same syntax as Julia).\n",
    "\n",
    "Working out the product $b(x) = a(x) \\bullet c(x)$ and reducing it modulo $n(x)$, we find that the multiplication can be expressed as a matrix-vector multiplication:\n",
    "\n",
    "$$ \\begin{bmatrix} b_0 \\\\\n",
    "                   b_1 \\\\\n",
    "                   b_2 \\\\\n",
    "                   b_3 \n",
    "                   \\end{bmatrix} = \n",
    "                   \\begin{bmatrix} \\texttt{0x02} & \\texttt{0x03} & \\texttt{0x01} & \\texttt{0x01} \\\\\n",
    "                                   \\texttt{0x01} & \\texttt{0x02} & \\texttt{0x03} & \\texttt{0x01} \\\\\n",
    "                                   \\texttt{0x01} & \\texttt{0x01} & \\texttt{0x02} & \\texttt{0x02} \\\\\n",
    "                                   \\texttt{0x03} & \\texttt{0x01} & \\texttt{0x01} & \\texttt{0x02}\n",
    "                                   \\end{bmatrix} \\otimes \\begin{bmatrix} a_0 \\\\\n",
    "                                                    a_1 \\\\\n",
    "                                                    a_2 \\\\\n",
    "                                                    a_3 \\end{bmatrix}\n",
    "                                                    $$\n",
    "\n",
    "Where we use the symbol $\\otimes$ to remind us that the matrix multiplication is being carried out over the field $GF(2^8)$.\n",
    "\n",
    "In order to perform the operation of multiplication over $GF(2^8)$, we must define the function `mul`.  The implemenation of `mul` is explored in the accompanying homework exercise.\n",
    "\n",
    "---\n",
    "\\* $d(x)$ is such that $c(x) \\bullet d(x) \\equiv 1 \\pmod{n(x)}$\n",
    "\n",
    "---"
   ]
  },
  {
   "cell_type": "code",
   "execution_count": 19,
   "id": "33c8a308",
   "metadata": {},
   "outputs": [
    {
     "data": {
      "text/plain": [
       "MixColumns (generic function with 1 method)"
      ]
     },
     "execution_count": 19,
     "metadata": {},
     "output_type": "execute_result"
    }
   ],
   "source": [
    "# FOR INFORMATION ON HOW `mul` IS IMPLEMENTED, SEE HOMEWORK PROBLEMS\n",
    "function mul(a,b)\n",
    "    prod::UInt8 = 0\n",
    "    for _ = 1:8\n",
    "        if (b & 1) != 0\n",
    "            prod = prod ⊻ a\n",
    "        end\n",
    "        overflow = ((a & 0x80) != 0)\n",
    "        a = a << 1\n",
    "        if overflow\n",
    "            a = a ⊻ 0x1b\n",
    "        end\n",
    "        b = b >> 1\n",
    "    end\n",
    "    prod\n",
    "end\n",
    "\n",
    "# Define `MixColumns`.  \n",
    "# Note that the Inverse Tranformation can be completed by imputting the inverse transform matrix: `InvMixMat`\n",
    "function MixColumns(state, c)\n",
    "    for i = 1:4\n",
    "        newtemp = zeros(UInt8, 4)\n",
    "        tmp = state[:,i]\n",
    "        \n",
    "        for j = 1:4\n",
    "            newtemp[j] = mul(tmp[1], c[j,1]) ⊻ mul(tmp[2], c[j,2]) ⊻ mul(tmp[3], c[j,3]) ⊻ mul(tmp[4], c[j,4]) \n",
    "        end\n",
    "        \n",
    "        state[:,i] = newtemp\n",
    "    end\n",
    "    return state\n",
    "end\n"
   ]
  },
  {
   "cell_type": "code",
   "execution_count": 20,
   "id": "358dfc3c",
   "metadata": {},
   "outputs": [
    {
     "data": {
      "text/plain": [
       "true"
      ]
     },
     "execution_count": 20,
     "metadata": {},
     "output_type": "execute_result"
    }
   ],
   "source": [
    "# Demonstration\n",
    "MixColumns(MixColumns(teststate, InvMixMat), MixMat) == teststate"
   ]
  },
  {
   "cell_type": "markdown",
   "id": "4cb5f01c",
   "metadata": {},
   "source": [
    "#### §2.2.4 `AddRoundKey`\n",
    "\n",
    "`AddRoundKey` is the simplest of all the steps of the *Round Transformation*.  It consists of simply adding the current state and the generated *Round Key* using a bitwise XOR.\n",
    "\n",
    "By nature of the bitwise XOR, `AddRoundKey` is its own inverse.\n",
    "\n",
    "***Note***: Below, the function `KeyExpansion` is used.  This function is used to generate the round keys from the cipher key.  This function is defined in the \"AESTables.jl\" file that is included with this project.  Information on how the round keys are generated using `KeyExpansion` is explored in the accompanying homework questions."
   ]
  },
  {
   "cell_type": "code",
   "execution_count": 21,
   "id": "3903bc20",
   "metadata": {},
   "outputs": [
    {
     "data": {
      "text/plain": [
       "AddRoundKey (generic function with 1 method)"
      ]
     },
     "execution_count": 21,
     "metadata": {},
     "output_type": "execute_result"
    }
   ],
   "source": [
    "function AddRoundKey(state, ExpandedKey, R)\n",
    "    cols = 4R + 1\n",
    "    return state .⊻ ExpandedKey[:,cols:(cols+3)]\n",
    "end"
   ]
  },
  {
   "cell_type": "code",
   "execution_count": 22,
   "id": "82d9b0f1",
   "metadata": {},
   "outputs": [
    {
     "data": {
      "text/plain": [
       "true"
      ]
     },
     "execution_count": 22,
     "metadata": {},
     "output_type": "execute_result"
    }
   ],
   "source": [
    "# Demonstation\n",
    "\n",
    "k = [\n",
    "    0x2b 0x7e 0x15 0x16\n",
    "    0x28 0xae 0xd2 0xa6\n",
    "    0xab 0xf7 0x15 0x88\n",
    "    0x09 0xcf 0x4f 0x3c\n",
    "]\n",
    "\n",
    "testkey = KeyExpansion(k)\n",
    "\n",
    "AddRoundKey(AddRoundKey(teststate, testkey, 5), testkey, 5) == teststate"
   ]
  },
  {
   "cell_type": "markdown",
   "id": "b62306c8",
   "metadata": {},
   "source": [
    "---\n",
    "---\n",
    "---"
   ]
  },
  {
   "cell_type": "markdown",
   "id": "7ba54254",
   "metadata": {},
   "source": [
    "# Part 3: Encryption and Decription\n",
    "\n",
    "The AES algorithm is structured such that the above *Round Tranformations* are applied iteratively to the supplied *plaintext* block, subject to the symmetric key that is chosen.\n",
    "\n",
    "\n",
    "\n"
   ]
  },
  {
   "cell_type": "markdown",
   "id": "47a97c61",
   "metadata": {},
   "source": [
    "### § 3.1 The Encryption Function\n",
    "\n",
    "AES encryption is structured as follows:\n",
    "1. The first step of the encryption process is an an initial Key Addition:\n",
    "\n",
    "$$ \\texttt{AddRoundKey} $$\n",
    "\n",
    "2. The *Round Transoformation*, `Round`, is then applied $N_r-1$ times, where $N_r$ is the total number of *rounds* that are to be applied to the *plaintext*.  `Round` has the following structure:\n",
    "\n",
    "$$ \\texttt{Round}: \\quad \\texttt{SubBytes} \\longrightarrow \\texttt{ShiftRows} \\longrightarrow \\texttt{MixColumns} \\longrightarrow \\texttt{AddRoundKey} $$\n",
    "\n",
    "3. The final *Round Tranformation*, `FinalRound`, is the same as `Round`, but with the `MixColumns` step removed:\n",
    "\n",
    "$$ \\texttt{FinalRound}: \\quad \\texttt{SubBytes} \\longrightarrow \\texttt{ShiftRows} \\longrightarrow  \\texttt{AddRoundKey} $$\n",
    "\n",
    "The resulting *ciphertext* is then returned by the encryption function, and can be shared to those who also have the symmetrix key, without worry of it being read/interpreted by intermediate parties.\n",
    "\n",
    "The encryption function, `AESEncrypt`, is defined below."
   ]
  },
  {
   "cell_type": "code",
   "execution_count": 23,
   "id": "f5838aca",
   "metadata": {},
   "outputs": [
    {
     "data": {
      "text/plain": [
       "AESEncrypt (generic function with 1 method)"
      ]
     },
     "execution_count": 23,
     "metadata": {},
     "output_type": "execute_result"
    }
   ],
   "source": [
    "function AESEncrypt(plaintext, cipherkey)\n",
    "    # Define Variables Used\n",
    "    N_rounds = 10\n",
    "    state = plaintext\n",
    "    \n",
    "    # Generate `ExpandedKey`\n",
    "    ExpandedKey = KeyExpansion(cipherkey)\n",
    "    \n",
    "    # Initial Key Addition\n",
    "    state = AddRoundKey(state, ExpandedKey, 0)\n",
    "    \n",
    "    # Normal Rounds\n",
    "    for i = 1:(N_rounds-1)\n",
    "        state = SubByte.(state)\n",
    "        state = ShiftRows(state)\n",
    "        state = MixColumns(state, MixMat)\n",
    "        state = AddRoundKey(state, ExpandedKey, i)\n",
    "    end\n",
    "    \n",
    "    # Final Round\n",
    "    state = SubByte.(state)\n",
    "    state = ShiftRows(state)\n",
    "    state = AddRoundKey(state, ExpandedKey, N_rounds)\n",
    "end"
   ]
  },
  {
   "cell_type": "code",
   "execution_count": 24,
   "id": "ab4da869",
   "metadata": {},
   "outputs": [
    {
     "data": {
      "text/plain": [
       "4×4 Matrix{UInt8}:\n",
       " 0x65  0x90  0x48  0xf6\n",
       " 0x2c  0xad  0xaa  0xa2\n",
       " 0xd7  0xee  0x89  0xdc\n",
       " 0x20  0x19  0x1b  0x9b"
      ]
     },
     "execution_count": 24,
     "metadata": {},
     "output_type": "execute_result"
    }
   ],
   "source": [
    "# Demonstration\n",
    "cipher = AESEncrypt(teststate, k)"
   ]
  },
  {
   "cell_type": "markdown",
   "id": "bed2c5bc",
   "metadata": {},
   "source": [
    "---"
   ]
  },
  {
   "cell_type": "markdown",
   "id": "1aae03d5",
   "metadata": {},
   "source": [
    "### § Decryption Function\n",
    "\n",
    "The AES *Decryption Algorithm* is easy to define, given the definitions of the *Round Transformations*.  Since each of the round tranformations are defined such that they are invertible, we can simply treat them as invertible mathematical functions, and use their properties under composition:\n",
    "\n",
    "$$\n",
    "\\begin{align}\\texttt{Round}^{-1} \\quad = \\quad &(\\texttt{AddRoundKey} \\circ \\texttt{MixColumns} \\circ \\texttt{ShiftRows} \\circ \\texttt{SubBytes})^{-1}\\\\\n",
    "= \\quad  &\\texttt{SubBytes}^{-1} \\circ \\texttt{ShiftRows}^{-1} \\circ \\texttt{MixColumns}^{-1} \\circ \\texttt{AddRoundKey}^{-1} \\\\ \\\\\n",
    "\\texttt{FinalRound}^{-1} \\quad = \\quad &(\\texttt{AddRoundKey} \\circ \\texttt{ShiftRows} \\circ \\texttt{SubBytes})^{-1}\\\\\n",
    "= \\quad  &\\texttt{SubBytes}^{-1} \\circ \\texttt{ShiftRows}^{-1} \\circ \\texttt{AddRoundKey}^{-1}\n",
    "\\end{align}\n",
    "$$\n",
    " \n",
    "  \n",
    "$$\n",
    "\\begin{align}\n",
    "\\implies &\\texttt{InvRound}: \\qquad \\quad \\; \\texttt{AddRoundKey} \\longrightarrow \\texttt{MixColumns} \\longrightarrow \\texttt{ShiftRows} \\longrightarrow \\texttt{SubBytes} \\\\\n",
    "\\implies &\\texttt{InvFinalRound}: \\quad \\texttt{AddRoundKey} \\longrightarrow \\texttt{ShiftRows} \\longrightarrow \\texttt{SubBytes}\n",
    "\\end{align}\n",
    "$$\n",
    "\n",
    "We can therefore, decrypt the ciphertext by first applying `InvFinalRound` to it, followed by repeatedly applying `InvRound` for the appropriate number of rounds and finally applying the key addition `AddRoundKey`.  With each key additition performed, we make sure that we are round keys in the reverse order that they were applied for encryption.\n",
    "\n",
    "***Note***:\n",
    "- The transformations `InvShiftRows` and `InvSubBytes` commute, since one acts on rows of the current *state*, while the other acts on inidividual bytes, independent of their position.  Therefore, the order in which `InvShiftRows` and `InvSubBytes` doesn't matter.\n",
    "\n",
    "\n",
    "- The tranformations `InvMixColumns` and `AddRoundKey` can be \"inverted\" as follows.  We note that the polynomial representations of the elements of $GF(2^8)$ can be associated with *vectors* in the *vector space* $GF(2)^8$, over the field $GF(2)$.  We then note that `MixColumns` is a *linear tranformation*, $D:GF(2)^8 \\rightarrow GF(2)^8$ and `AddRoundKey` consists only of an addition of the current state, $\\textbf{x} \\in  GF(2)^8$ with a constant vector (the round key), $\\textbf{k} \\in GF(2)^8$.  Then by definition of a linear tranformation, we have:\n",
    "\n",
    "$$ D(\\textbf{x} \\oplus \\textbf{k}) = D(\\textbf{x}) \\oplus D(\\textbf{k}) = D(\\textbf{k}) \\oplus D(\\textbf{x}) $$ \n",
    "\n",
    "Thus, by first applying `InvMixColumns` to both the state and round key first and then applying the resulting transformed round key, the order of the operations can be \"reversed\".\n",
    "\n",
    "However, while this abstraction is nice mathematically, for simplicity we just apply `InvMixColumns` and `AddRoundKey` in the order as stated above.\n",
    "\n",
    "The decryption function, `AESDecrypt`, is defined below.\n"
   ]
  },
  {
   "cell_type": "code",
   "execution_count": 25,
   "id": "9be0ae26",
   "metadata": {},
   "outputs": [
    {
     "data": {
      "text/plain": [
       "AESDecrypt (generic function with 1 method)"
      ]
     },
     "execution_count": 25,
     "metadata": {},
     "output_type": "execute_result"
    }
   ],
   "source": [
    "function AESDecrypt(ciphertext, cipherkey)\n",
    "    # Define Variables\n",
    "    N_rounds = 10\n",
    "    state = ciphertext\n",
    "    \n",
    "    # Generate `ExpandedKey`\n",
    "    ExpandedKey = KeyExpansion(cipherkey)\n",
    "    \n",
    "    # Last Round Inverse\n",
    "    state = AddRoundKey(state, ExpandedKey, N_rounds)\n",
    "    state = InvSubByte.(state)\n",
    "    state = InvShiftRows(state)\n",
    "    \n",
    "    # Normal Rounds Inverse\n",
    "    for i in reverse(1:9)\n",
    "        state = AddRoundKey(state, ExpandedKey, i)\n",
    "        state = MixColumns(state, InvMixMat)\n",
    "        state = InvSubByte.(state)\n",
    "        state = InvShiftRows(state)\n",
    "    end\n",
    "    \n",
    "    # End with the Key Addition\n",
    "    AddRoundKey(state, ExpandedKey, 0)\n",
    "end"
   ]
  },
  {
   "cell_type": "code",
   "execution_count": 26,
   "id": "6b4a8c58",
   "metadata": {},
   "outputs": [
    {
     "data": {
      "text/plain": [
       "true"
      ]
     },
     "execution_count": 26,
     "metadata": {},
     "output_type": "execute_result"
    }
   ],
   "source": [
    "AESDecrypt(cipher, k) == teststate"
   ]
  },
  {
   "cell_type": "markdown",
   "id": "3d8b46f7",
   "metadata": {},
   "source": [
    "---\n",
    "---\n",
    "---"
   ]
  },
  {
   "cell_type": "markdown",
   "id": "3faf4ba9",
   "metadata": {},
   "source": [
    "# Part 4: Applying the Algorithm\n",
    "\n",
    "### §4.1 Short Example"
   ]
  },
  {
   "cell_type": "code",
   "execution_count": 27,
   "id": "6d29cc62",
   "metadata": {},
   "outputs": [
    {
     "name": "stdout",
     "output_type": "stream",
     "text": [
      "str_chars = only.(split(str, \"\")) = ['M', 'a', 't', 'h', 'e', 'm', 'a', 't', 'i', 'c', 's', '=', 'F', 'u', 'n', '!']\n"
     ]
    },
    {
     "data": {
      "text/plain": [
       "4×4 Matrix{Char}:\n",
       " 'M'  'e'  'i'  'F'\n",
       " 'a'  'm'  'c'  'u'\n",
       " 't'  'a'  's'  'n'\n",
       " 'h'  't'  '='  '!'"
      ]
     },
     "execution_count": 27,
     "metadata": {},
     "output_type": "execute_result"
    }
   ],
   "source": [
    "# Demonstration\n",
    "str = \"Mathematics=Fun!\"\n",
    "@show str_chars = only.(split(str, \"\"))\n",
    "str_block = reshape(str_chars, 4,4)"
   ]
  },
  {
   "cell_type": "code",
   "execution_count": 28,
   "id": "9a88108c",
   "metadata": {},
   "outputs": [
    {
     "data": {
      "text/plain": [
       "4×4 Matrix{UInt8}:\n",
       " 0x4d  0x65  0x69  0x46\n",
       " 0x61  0x6d  0x63  0x75\n",
       " 0x74  0x61  0x73  0x6e\n",
       " 0x68  0x74  0x3d  0x21"
      ]
     },
     "execution_count": 28,
     "metadata": {},
     "output_type": "execute_result"
    }
   ],
   "source": [
    "plaintext = UInt8.(str_block)"
   ]
  },
  {
   "cell_type": "code",
   "execution_count": 29,
   "id": "a6bf64dd",
   "metadata": {},
   "outputs": [
    {
     "data": {
      "text/plain": [
       "16-element Vector{Char}:\n",
       " 'â': Unicode U+00E2 (category Ll: Letter, lowercase)\n",
       " '\\u92': Unicode U+0092 (category Cc: Other, control)\n",
       " 'á': Unicode U+00E1 (category Ll: Letter, lowercase)\n",
       " '\\u96': Unicode U+0096 (category Cc: Other, control)\n",
       " '/': ASCII/Unicode U+002F (category Po: Punctuation, other)\n",
       " '?': ASCII/Unicode U+003F (category Po: Punctuation, other)\n",
       " 'o': ASCII/Unicode U+006F (category Ll: Letter, lowercase)\n",
       " 'd': ASCII/Unicode U+0064 (category Ll: Letter, lowercase)\n",
       " 'o': ASCII/Unicode U+006F (category Ll: Letter, lowercase)\n",
       " 'y': ASCII/Unicode U+0079 (category Ll: Letter, lowercase)\n",
       " '\\x03': ASCII/Unicode U+0003 (category Cc: Other, control)\n",
       " '\\u9e': Unicode U+009E (category Cc: Other, control)\n",
       " '¯': Unicode U+00AF (category Sk: Symbol, modifier)\n",
       " '\\u93': Unicode U+0093 (category Cc: Other, control)\n",
       " 'i': ASCII/Unicode U+0069 (category Ll: Letter, lowercase)\n",
       " 'ô': Unicode U+00F4 (category Ll: Letter, lowercase)"
      ]
     },
     "execution_count": 29,
     "metadata": {},
     "output_type": "execute_result"
    }
   ],
   "source": [
    "cipher = AESEncrypt(plaintext, k)\n",
    "cipher_str = (Char.(vec(cipher)))"
   ]
  },
  {
   "cell_type": "code",
   "execution_count": 30,
   "id": "cd9162ae",
   "metadata": {},
   "outputs": [
    {
     "data": {
      "text/plain": [
       "\"Mathematics=Fun!\""
      ]
     },
     "execution_count": 30,
     "metadata": {},
     "output_type": "execute_result"
    }
   ],
   "source": [
    "decrypted = AESDecrypt(cipher, k)\n",
    "decrypted_message = String(Char.(vec(decrypted)))"
   ]
  },
  {
   "cell_type": "markdown",
   "id": "1ea8744b",
   "metadata": {},
   "source": [
    "---"
   ]
  },
  {
   "cell_type": "markdown",
   "id": "c9136350",
   "metadata": {},
   "source": [
    "### §4.2 Longer Examples"
   ]
  },
  {
   "cell_type": "code",
   "execution_count": 31,
   "id": "2f97d6b4",
   "metadata": {},
   "outputs": [
    {
     "name": "stdout",
     "output_type": "stream",
     "text": [
      "Humpty Dumpty sat on a wall.\n",
      "Humpty Dumpty had a great fall.\n",
      "All the king's horses and all the king's men\n",
      "Couldn't put Humpty together again.\n"
     ]
    }
   ],
   "source": [
    "println(HumptyDumpty)"
   ]
  },
  {
   "cell_type": "code",
   "execution_count": 32,
   "id": "82bc8eb4",
   "metadata": {},
   "outputs": [
    {
     "name": "stdout",
     "output_type": "stream",
     "text": [
      "Lorem ipsum dolor sit amet, consectetur adipiscing elit. Curabitur condimentum vitae tortor nec congue. Ut felis est, posuere viverra ex id, pharetra pulvinar odio. Nulla placerat mi sed pharetra efficitur. Curabitur a faucibus elit, vitae laoreet augue. Nulla finibus, orci non porta gravida, tellus lectus scelerisque lorem, ut iaculis turpis enim nec velit. In porttitor arcu ac justo scelerisque, et venenatis quam posuere. Nulla iaculis, lectus vitae fermentum tristique, urna neque vestibulum tellus, id congue dui nulla eget tellus. Mauris et turpis iaculis arcu convallis consectetur ac ac purus. Praesent fringilla hendrerit lacus, vitae blandit purus elementum vel. Donec vehicula arcu felis, non vulputate libero ultrices at. Fusce posuere, augue at imperdiet pulvinar, neque tortor dictum elit, nec sollicitudin neque sem eu leo. Sed eget accumsan nisl. Sed dictum quis massa in varius. Pellentesque a eleifend felis, sit amet rutrum metus. Mauris sit amet nulla lorem. In tempor quis libero vitae consectetur.\n",
      "\n",
      "Sed hendrerit lectus placerat mi viverra, et pharetra mauris consectetur. Donec non iaculis orci. Suspendisse varius nulla accumsan tortor pharetra fermentum. Ut vitae ligula eu nunc eleifend varius et quis leo. Sed in tempus ipsum. Suspendisse ac mauris arcu. Cras faucibus magna nec metus vulputate, sit amet feugiat mi laoreet.\n",
      "\n",
      "Ut id gravida ipsum, sed semper urna. Curabitur non ullamcorper neque, vel commodo nisl. Ut in dolor leo. Nunc lacinia lacinia semper. Nulla facilisi. Donec ac condimentum nunc. Fusce lacinia ultrices ex eget gravida. In sagittis magna vitae sem pulvinar, sit amet ultrices felis efficitur. Aenean vestibulum finibus rhoncus.\n",
      "\n",
      "Etiam consectetur vulputate faucibus. Aenean dapibus lacus a enim efficitur aliquet. Donec sed magna felis. Nam non arcu sed nibh aliquet lacinia sed eget nisi. Mauris vel mollis quam, eget vestibulum mauris. In non felis quis massa pharetra laoreet. Fusce scelerisque eleifend neque, sed tristique felis faucibus ut.\n",
      "\n",
      "Vivamus eget diam a lectus accumsan accumsan. Donec eu mollis lacus. Etiam et semper nisi. Mauris consectetur commodo est vitae consectetur. Sed a nisi vitae lorem posuere suscipit. Morbi placerat magna vitae malesuada convallis. Sed condimentum vitae ipsum quis egestas. Interdum et malesuada fames ac ante ipsum primis in faucibus. Vestibulum pulvinar a tellus eget facilisis. Sed et dapibus urna, sed ullamcorper urna. Pellentesque habitant morbi tristique senectus et netus et malesuada fames ac turpis egestas. Nulla non justo dictum, bibendum ligula vitae, vehicula arcu. Donec eu nulla nec augue malesuada pulvinar pretium vel lectus. Duis rhoncus nulla sit amet neque vestibulum laoreet. Aliquam a commodo libero, eget maximus dui. In ante libero, congue nec tellus et, semper ultrices dolor.\n"
     ]
    }
   ],
   "source": [
    "println(Lorem)"
   ]
  },
  {
   "cell_type": "code",
   "execution_count": 33,
   "id": "2ef47410",
   "metadata": {},
   "outputs": [
    {
     "data": {
      "text/plain": [
       "AESString (generic function with 2 methods)"
      ]
     },
     "execution_count": 33,
     "metadata": {},
     "output_type": "execute_result"
    }
   ],
   "source": [
    "function AESString(str, cipherkey, encrypt=true)\n",
    "    # Pad the string so that it has an integer multiple of 16 characters\n",
    "    if (length(str) % 16) != 0\n",
    "        N_pad = 16 - (length(str) % 16)\n",
    "        str = str * (\" \" ^ N_pad)\n",
    "    end\n",
    "    \n",
    "    str_vec = only.(split(str, \"\"))\n",
    "    \n",
    "    plaintext = UInt8.(reshape(str_vec, 4, :))\n",
    "    n_cols = size(plaintext, 2)\n",
    "    \n",
    "    # Encrypt the Plaintext\n",
    "    # Initialize Cipher Block\n",
    "    ciphertext = zeros(UInt8, 4, n_cols)\n",
    "    \n",
    "    # Encrypt or Decrypt\n",
    "    if encrypt\n",
    "        for i = 0:((n_cols ÷ 4)-1)\n",
    "            ciphertext[:,4i+1:4i+4] = AESEncrypt(plaintext[:,4i+1:4i+4], cipherkey)\n",
    "        end\n",
    "    else\n",
    "        for i = 0:((n_cols ÷ 4)-1)\n",
    "            ciphertext[:,4i+1:4i+4] = AESDecrypt(plaintext[:,4i+1:4i+4], cipherkey)\n",
    "        end\n",
    "    end\n",
    "    \n",
    "    # Return Encrypted/Decrypted String\n",
    "    String(Char.(vec(ciphertext)))\n",
    "end"
   ]
  },
  {
   "cell_type": "code",
   "execution_count": 34,
   "id": "3522ad79",
   "metadata": {},
   "outputs": [
    {
     "name": "stdout",
     "output_type": "stream",
     "text": [
      "Humpty Dumpty sat on a wall.\n",
      "Humpty Dumpty had a great fall.\n",
      "All the king's horses and all the king's men\n",
      "Couldn't put Humpty together again.   \n"
     ]
    }
   ],
   "source": [
    "println(AESString(AESString(HumptyDumpty, k), k, false))"
   ]
  },
  {
   "cell_type": "code",
   "execution_count": 35,
   "id": "ae7fc798",
   "metadata": {},
   "outputs": [
    {
     "data": {
      "text/plain": [
       "true"
      ]
     },
     "execution_count": 35,
     "metadata": {},
     "output_type": "execute_result"
    }
   ],
   "source": [
    "strip(AESString(AESString(strip(Lorem), k),k,false)) == strip(Lorem)"
   ]
  },
  {
   "cell_type": "markdown",
   "id": "298c9c70",
   "metadata": {},
   "source": [
    "---\n",
    "---\n",
    "---"
   ]
  },
  {
   "cell_type": "markdown",
   "id": "4f3b1602",
   "metadata": {},
   "source": [
    "## Thank you for listening!"
   ]
  },
  {
   "cell_type": "markdown",
   "id": "863863a4",
   "metadata": {},
   "source": [
    "---\n",
    "---\n",
    "---"
   ]
  },
  {
   "cell_type": "markdown",
   "id": "7868491c",
   "metadata": {},
   "source": [
    "### Bibliography\n",
    "\n",
    "[1] “Advanced Encryption Standard,” Wikipedia. Mar. 05, 2023. Accessed: Mar. 06, 2023. [Online]. Available: https://en.wikipedia.org/w/index.php?title=Advanced_Encryption_Standard&oldid=1143098771\n",
    "\n",
    "[2] Harjoitukset, “Algebra 2: Harjoitukset 2.” Accessed: Mar. 09, 2023. [Online]. Available: https://dept.math.lsa.umich.edu/~kesmith/Alg2Demo2.pdf\n",
    "\n",
    "[3] I. Karonen, “Answer to ‘How to do Hexadecimal multiplication in GF(2^8),’” Cryptography Stack Exchange, Oct. 16, 2018. https://crypto.stackexchange.com/a/63152 (accessed Mar. 14, 2023).\n",
    "\n",
    "[4] “Confusion and diffusion,” Wikipedia. Jan. 09, 2023. Accessed: Mar. 14, 2023. [Online]. Available: https://en.wikipedia.org/w/index.php?title=Confusion_and_diffusion&oldid=1132575471\n",
    "\n",
    "[5] “Extended Euclidean algorithm,” Wikipedia. Jan. 25, 2023. Accessed: Mar. 07, 2023. [Online]. Available: https://en.wikipedia.org/w/index.php?title=Extended_Euclidean_algorithm&oldid=1135569411\n",
    "\n",
    "[6] “Figure 4. AES S-Box (Rijndael S-Box) 16 .,” ResearchGate. https://www.researchgate.net/figure/AES-S-Box-Rijndael-S-Box-16_fig4_318906543 (accessed Mar. 13, 2023).\n",
    "\n",
    "[7] “Finite field arithmetic,” Wikipedia. Feb. 07, 2023. Accessed: Mar. 14, 2023. [Online]. Available: https://en.wikipedia.org/w/index.php?title=Finite_field_arithmetic&oldid=1137942969\n",
    "\n",
    "[8] “IBM Documentation,” Mar. 01, 2021. https://www.ibm.com/docs/en/ztpf/2020?topic=concepts-symmetric-cryptography (accessed Mar. 06, 2023).\n",
    "\n",
    "[9] “IBM Documentation,” Mar. 01, 2021. https://www.ibm.com/docs/en/ztpf/2020?topic=concepts-symmetric-cryptography (accessed Mar. 15, 2023).\n",
    "\n",
    "[10] “Implementing AES.” https://blog.nindalf.com/posts/implementing-aes/ (accessed Mar. 07, 2023).\n",
    "\n",
    "[11] D. Forney, “Introduction to Finite Fields.” MIT. Accessed: Mar. 09, 2023. [Online]. Available: http://web.stanford.edu/~marykw/classes/CS250_W19/readings/Forney_Introduction_to_Finite_Fields.pdf\n",
    "\n",
    "[12] “Lorem Ipsum - All the facts - Lipsum generator.” https://www.lipsum.com/feed/html (accessed Mar. 15, 2023).\n",
    "\n",
    "[13] “Rijndael S-box,” Wikipedia. Sep. 14, 2022. Accessed: Mar. 07, 2023. [Online]. Available: https://en.wikipedia.org/w/index.php?title=Rijndael_S-box&oldid=1110299033\n",
    "\n",
    "[14] “Symmetric vs. Asymmetric Encryption - What are differences?,” SSL2BUY. https://www.ssl2buy.com/wiki/symmetric-vs-asymmetric-encryption-what-are-differences (accessed Mar. 15, 2023).\n",
    "\n",
    "[15] J. Daemen and V. Rijmen, The design of Rijndael: AES--the Advanced Encryption Standard. Berlin ; New York: Springer, 2002.\n",
    "\n",
    "[16] “What Is AES Encryption and How Does It Work? - Simplilearn,” Simplilearn.com, Jul. 27, 2021. https://www.simplilearn.com/tutorials/cryptography-tutorial/aes-encryption (accessed Mar. 06, 2023).\n",
    "\n",
    "[17] “What is the Advanced Encryption Standard (AES)? Definition from SearchSecurity.” https://www.techtarget.com/searchsecurity/definition/Advanced-Encryption-Standard (accessed Mar. 15, 2023).\n"
   ]
  },
  {
   "cell_type": "markdown",
   "id": "889cc01d",
   "metadata": {},
   "source": [
    "---\n",
    "---\n",
    "---\n",
    "---"
   ]
  },
  {
   "cell_type": "markdown",
   "id": "5750103f",
   "metadata": {},
   "source": [
    "# Mini Homework\n",
    "\n",
    "**Tomás Gillanders**  \n",
    "**PID: A17694974**"
   ]
  },
  {
   "cell_type": "markdown",
   "id": "5089c9b5",
   "metadata": {},
   "source": [
    "## Problem 1: Multiplication in $GF(2^8)$"
   ]
  },
  {
   "cell_type": "markdown",
   "id": "02a1cb20",
   "metadata": {},
   "source": [
    "As discussed in §1.3 (Operations on Finite Fields & Polynomial Representations) of the lecture, \"multiplication\" in $GF(p^n)$ must be defined diferently to the familiar operation of multiplication on the real number field that we use every day, so that it satisfies the field axioms (as specified in §1.1).\n",
    "\n",
    "In the implementation of `MixColumns` above, the function `mul` was used when multiplying elements of $GF(2^8)$.  This function was defined in the 'AESTables.jl' file but here we explore how it works.\n",
    "\n",
    "Multiplication in $GF(2^8)$ can be carried out using a modified version of the \"Peasants Algorithm\" for multiplicaiton (see this [Numberphile video](https://youtu.be/HJ_PP5rqLg0) starring Johnny Ball for more information).\n",
    "\n",
    "The multiplication algorithm is as follows (to computed $a \\otimes b$ in $GF(2^8)$):\n",
    "1. Initialise a variable `prod` (of type `UInt8`, i.e. stored in a byte of memory) that will updated throughout the multiplication process and result as the product of the numbers $a,b \\in GF(2^8)$.\n",
    "2. Writing `a` and `b` in binary representation, check if the rightmost bit (\"unit\" position) of `b` is a 1.  If it is add `a` to `prod`.\n",
    "3. Now check if the leftmost bit of `a` is a 1 and keep track of it using the variable `overflow`.\n",
    "4. Shift `a` one bit to the left and disregard the leftmost bit.  If the leftmost bit of `a` was found to be 1 in the previous step, then add $00011011_2$ to `a`.  Otherwise, do nothing.\n",
    "5. Shift `b` one bit to the right, disregarding the rightmost bit and setting the leftmost bit to 0.\n",
    "6. Repeat Steps 2-5 until `b = 00000000`. Return `prod`, the product of $a$ and $b$ in $GF(2^8)$.\n",
    "\n",
    ">**Explanation**\n",
    ">\n",
    ">The above process works for the same reason that the \"Peasant's Algorithm\" for multiplication works.  Left bitshifts *in general* correspond to multiplication by 2 (with a caveat when the leftmost bit is 1) and right bitshifts correspond to integer division by 2 (or $10_2$).  Thus, by checking the rightmost bit of `b` on every iteration (while 'doubling' `a` at the same time), we are checking if the $2^n \\times a$ term should be added to `prod` (where $n$ correponds to the index of the $2^n$ term in the binary representation of $b$, starting at index zero from the right).  This is exactly what we do when performing long multiplication, except performed base 10.\n",
    ">\n",
    ">The complication in the above algorithm arises when the leftmost bit of `a` is 1.  Since we are working over the field $GF(2^8)$, we cannot simply double a number greater than $2^7 \\equiv 10000000_2$ since it will no longer be in the allowed range. \n",
    ">\n",
    ">Recall that in terms of the polynomial representation of $GF(2^8)$, \"doubling\" corresponds to simply multiplying our polynomial by $x$.  Thus, if $deg(a(x)) = 7$ then $deg(x \\bullet a(x)) = 8 \\nless 8$ and thus, the resulting polynomial must be reduced by the reduction polynomial.\n",
    ">\n",
    ">The reduction of `a` (after the left bitshift) modulo our reduction polynomial ($m(x) = x^8 + x^4 + x^3 + x + 1$ from §1.4), corresponds to addition of `a` with $00011011_2$ (i.e. the bits correspond to the coefficients of $m(x)$ without the $x^8$ term*).  This works because if $a(x) = q(x) \\bullet m(x) + r(x)$, then $a(x) \\equiv r(x) \\pmod(m(x))$.  However, since we know $deg(a(x)) = 8$ (after bitshift), then $a(x) = 1 \\bullet m(x) + r(x) \\implies r(x) = a(x) - m(x)$.  Since the bitwise XOR is its own inverse in $GF(2^8)$, we then replace `a` with `a ⊻ 00011011`, its correct value in $GF(2^8)$.\n",
    "\n",
    "---\n",
    ">\\* The bit correspinding to the $x^8$ term can be omitted, since the leftmost bit of `a` is disregarded after the left bitshift.  If both of these bits were not disregarded, it would make no difference, since they would still cancel each other out: 1 ⊻ 1 = 0.\n",
    "\n",
    "---\n",
    "\n",
    "**Question**:\n",
    "\n",
    "Write a function, `mul`, that takes in two elements from $GF(2^8)$, in hexadecimel format, and computes their product (in $GF(2^8)$) using the above procedure and the bitwise operators provided by Julia. The explicite binary represetations should not be used in this function.\n",
    "\n",
    "A list of the Julia's operators can be found [here](https://docs.julialang.org/en/v1/manual/mathematical-operations/#Bitwise-Operators)."
   ]
  },
  {
   "cell_type": "code",
   "execution_count": 84,
   "id": "ede1990c",
   "metadata": {},
   "outputs": [
    {
     "data": {
      "text/plain": [
       "(Univariate Polynomial Ring in x over Galois field with characteristic 2, x)"
      ]
     },
     "execution_count": 84,
     "metadata": {},
     "output_type": "execute_result"
    }
   ],
   "source": [
    "# ANSWER\n",
    "function mul(a::UInt8, b::UInt8)\n",
    "    prod::UInt8 = 0\n",
    "    for _ = 1:8\n",
    "        if (b & 1) != 0\n",
    "            prod = prod ⊻ a\n",
    "        end\n",
    "        overflow = ((a & 0x80) != 0)\n",
    "        a = a << 1\n",
    "        if overflow\n",
    "            a = a ⊻ 0x1b\n",
    "        end\n",
    "        b = b >> 1\n",
    "    end\n",
    "    prod\n",
    "end"
   ]
  },
  {
   "cell_type": "code",
   "execution_count": 85,
   "id": "fb41ef23",
   "metadata": {},
   "outputs": [
    {
     "data": {
      "text/plain": [
       "x"
      ]
     },
     "execution_count": 85,
     "metadata": {},
     "output_type": "execute_result"
    }
   ],
   "source": []
  },
  {
   "cell_type": "code",
   "execution_count": 87,
   "id": "b71d4ca4",
   "metadata": {},
   "outputs": [
    {
     "data": {
      "text/plain": [
       "(Univariate Polynomial Ring in x over Galois field with characteristic 2, x)"
      ]
     },
     "execution_count": 87,
     "metadata": {},
     "output_type": "execute_result"
    }
   ],
   "source": []
  },
  {
   "cell_type": "code",
   "execution_count": null,
   "id": "f0304634",
   "metadata": {},
   "outputs": [],
   "source": []
  },
  {
   "cell_type": "markdown",
   "id": "352d3692",
   "metadata": {},
   "source": [
    "## Problem 2: Round Key Generation\n",
    "\n",
    "As discussed in during the lecture, in order to carry out the `AddRoundKey` round transformation, a *Round Key* must be generated using the symmetric cipher key that is passed into the AES encryption function.\n",
    "\n",
    "> *Warning*: If ever you wish to produce your own implementation of AES, it is extremely important that the `ExpandedKey` is always derived from the cipher key; and never specified directly.  Otherwise, you put your information (and possibly others') at risk from being deciphered and read by people who the message is not intended for.\n",
    "\n",
    "The method in which the `ExpandedKey` is derived is specified in the [AES Specification](https://nvlpubs.nist.gov/nistpubs/fips/nist.fips.197.pdf).\n",
    "\n",
    "A summary of how `KeyExpansion` works is as follows:\n"
   ]
  },
  {
   "cell_type": "code",
   "execution_count": 72,
   "id": "c1c75b86",
   "metadata": {},
   "outputs": [
    {
     "data": {
      "text/plain": [
       "KeyExpansionNew (generic function with 1 method)"
      ]
     },
     "execution_count": 72,
     "metadata": {},
     "output_type": "execute_result"
    }
   ],
   "source": [
    "function KeyExpansionNew(K)\n",
    "    N_rounds = 10\n",
    "    N_key = size(K, 2)\n",
    "    \n",
    "    if !((N_key == 4) || (N_key == 6))\n",
    "        error(\"Key Length Prohibited\")\n",
    "    end\n",
    "    \n",
    "    W = zeros(UInt8, 4, 4*(N_rounds+1))\n",
    "    W[:,1:N_key] = K\n",
    "    \n",
    "    for i = (N_key+1):(4*(N_rounds+1))\n",
    "        if (i % N_key) == 0\n",
    "            RCon = zeros(UInt8, 4)\n",
    "            RCon[1] = RC[Int(i/N_key)]\n",
    "            W[:,i] = W[:,i-N_key] .⊻ SubByte.(W[:,i-1]) .⊻ RCon\n",
    "        else\n",
    "            W[:,i] = W[:,i-N_key] .⊻ W[:,i-1]\n",
    "        end\n",
    "    end\n",
    "    return W\n",
    "end"
   ]
  },
  {
   "cell_type": "code",
   "execution_count": 73,
   "id": "f8611196",
   "metadata": {},
   "outputs": [
    {
     "data": {
      "text/plain": [
       "4×6 Matrix{UInt8}:\n",
       " 0x65  0xe4  0x1a  0x39  0x43  0xb9\n",
       " 0xd5  0x45  0xf0  0xa5  0xca  0x68\n",
       " 0xc7  0x2f  0x5d  0x09  0x95  0x54\n",
       " 0x42  0x2e  0x7a  0x0f  0x21  0x16"
      ]
     },
     "execution_count": 73,
     "metadata": {},
     "output_type": "execute_result"
    }
   ],
   "source": [
    "K = rand(UInt8, 4, 6)"
   ]
  },
  {
   "cell_type": "code",
   "execution_count": 74,
   "id": "fc35086e",
   "metadata": {},
   "outputs": [
    {
     "data": {
      "text/plain": [
       "4×44 Matrix{UInt8}:\n",
       " 0x65  0xe4  0x1a  0x39  0x43  0xb9  …  0x1e  0x07  0x4b  0xf8  0xe7  0x37\n",
       " 0xd5  0x45  0xf0  0xa5  0xca  0x68     0x6f  0xda  0x85  0x40  0xaf  0x4f\n",
       " 0xc7  0x2f  0x5d  0x09  0x95  0x54     0x9d  0x3d  0xdc  0x36  0x1a  0xe5\n",
       " 0x42  0x2e  0x7a  0x0f  0x21  0x16     0xc1  0x0d  0xbc  0x6e  0xfa  0xc4"
      ]
     },
     "execution_count": 74,
     "metadata": {},
     "output_type": "execute_result"
    }
   ],
   "source": [
    "KeyExpansionNew(K)"
   ]
  },
  {
   "cell_type": "code",
   "execution_count": 53,
   "id": "37e18589",
   "metadata": {},
   "outputs": [
    {
     "data": {
      "text/plain": [
       "6.0"
      ]
     },
     "execution_count": 53,
     "metadata": {},
     "output_type": "execute_result"
    }
   ],
   "source": [
    "192/32"
   ]
  },
  {
   "cell_type": "code",
   "execution_count": 71,
   "id": "3bea6a01",
   "metadata": {},
   "outputs": [
    {
     "data": {
      "text/plain": [
       "0x01"
      ]
     },
     "execution_count": 71,
     "metadata": {},
     "output_type": "execute_result"
    }
   ],
   "source": [
    "zeros(UInt8, 4)[1] = RC[Int(1)]"
   ]
  },
  {
   "cell_type": "code",
   "execution_count": null,
   "id": "df368c16",
   "metadata": {},
   "outputs": [],
   "source": []
  }
 ],
 "metadata": {
  "kernelspec": {
   "display_name": "Julia 1.8.5",
   "language": "julia",
   "name": "julia-1.8"
  },
  "language_info": {
   "file_extension": ".jl",
   "mimetype": "application/julia",
   "name": "julia",
   "version": "1.8.5"
  }
 },
 "nbformat": 4,
 "nbformat_minor": 5
}
